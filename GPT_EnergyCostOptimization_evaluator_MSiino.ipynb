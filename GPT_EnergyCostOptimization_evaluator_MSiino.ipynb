{
  "nbformat": 4,
  "nbformat_minor": 0,
  "metadata": {
    "colab": {
      "provenance": [],
      "authorship_tag": "ABX9TyPNQ6YGBxqmHYjfTyhAyjni",
      "include_colab_link": true
    },
    "kernelspec": {
      "name": "python3",
      "display_name": "Python 3"
    },
    "language_info": {
      "name": "python"
    }
  },
  "cells": [
    {
      "cell_type": "markdown",
      "metadata": {
        "id": "view-in-github",
        "colab_type": "text"
      },
      "source": [
        "<a href=\"https://colab.research.google.com/github/marco-siino/gpt_energy_cost_optimization/blob/main/GPT_EnergyCostOptimization_evaluator_MSiino.ipynb\" target=\"_parent\"><img src=\"https://colab.research.google.com/assets/colab-badge.svg\" alt=\"Open In Colab\"/></a>"
      ]
    },
    {
      "cell_type": "markdown",
      "source": [
        "# Import the libraries required."
      ],
      "metadata": {
        "id": "aQGK5qFcm3IA"
      }
    },
    {
      "cell_type": "code",
      "execution_count": 37,
      "metadata": {
        "id": "c04JAPYwl8UR"
      },
      "outputs": [],
      "source": [
        "import requests\n",
        "import zipfile\n",
        "import io\n",
        "import calendar\n",
        "import re\n",
        "from datetime import datetime"
      ]
    },
    {
      "cell_type": "markdown",
      "source": [
        "# Get the log files from GitHub and extract the folders."
      ],
      "metadata": {
        "id": "KpGLLKJfmDeJ"
      }
    },
    {
      "cell_type": "code",
      "source": [
        "def get_log_files_zipped (zip_url, folder_name):\n",
        "  # Send a GET request to the URL\n",
        "  response = requests.get(zip_url)\n",
        "\n",
        "  # Check if the request was successful (status code 200)\n",
        "  if response.status_code == 200:\n",
        "      # Read the content of the response\n",
        "      zip_content = io.BytesIO(response.content)\n",
        "\n",
        "      # Extract the zip file\n",
        "      with zipfile.ZipFile(zip_content, 'r') as zip_ref:\n",
        "          zip_ref.extractall('/content/'+folder_name)  # Extract to the '/content/' directory in Colab\n",
        "      print(\"Zip file extracted successfully.\")\n",
        "  else:\n",
        "      print(\"Failed to download zip file.\")"
      ],
      "metadata": {
        "id": "d63uVQ4YrBSg"
      },
      "execution_count": 4,
      "outputs": []
    },
    {
      "cell_type": "code",
      "source": [
        "# GitHub repository URL\n",
        "jul2014_url = 'https://github.com/marco-siino/gpt_energy_cost_optimization/raw/main/multiple_appliances_jul2014.zip'\n",
        "nov2014_url = 'https://github.com/marco-siino/gpt_energy_cost_optimization/raw/main/multiple_appliances_nov2014.zip'\n",
        "feb2015_url = 'https://github.com/marco-siino/gpt_energy_cost_optimization/raw/main/multiple_appliances_feb2015.zip'\n",
        "apr2015_url = 'https://github.com/marco-siino/gpt_energy_cost_optimization/raw/main/multiple_appliances_apr2015.zip'\n",
        "\n",
        "get_log_files_zipped(jul2014_url,\"jul2014\")\n",
        "get_log_files_zipped(nov2014_url,\"nov2014\")\n",
        "get_log_files_zipped(feb2015_url,\"feb2015\")\n",
        "get_log_files_zipped(apr2015_url,\"apr2015\")\n",
        "\n"
      ],
      "metadata": {
        "colab": {
          "base_uri": "https://localhost:8080/"
        },
        "id": "LO_qFACcrsvZ",
        "outputId": "d7030f23-77ad-4d42-b034-41c96b216872"
      },
      "execution_count": 6,
      "outputs": [
        {
          "output_type": "stream",
          "name": "stdout",
          "text": [
            "Zip file extracted successfully.\n",
            "Zip file extracted successfully.\n",
            "Zip file extracted successfully.\n",
            "Zip file extracted successfully.\n"
          ]
        }
      ]
    },
    {
      "cell_type": "markdown",
      "source": [
        "# Function to get the content of a log file."
      ],
      "metadata": {
        "id": "e06mLgPUvyJn"
      }
    },
    {
      "cell_type": "code",
      "source": [
        "def get_log_file_content(day,month,year):\n",
        "  month_number = int(month)\n",
        "  month_name = calendar.month_name[month_number]\n",
        "  # Get the first three characters of the month name\n",
        "  short_month_name = month_name[:3].lower()  # Convert to lowercase for consistency\n",
        "  file_path = short_month_name+str(year)+\"/multiple_appliances/multiple_appliances_\"+str(year)+\"-\"+str(month)+\"-\"+str(day)+\".txt\"\n",
        "  file_content=\"\"\n",
        "  print(file_path)\n",
        "  try:\n",
        "    # Open the file in read mode\n",
        "    with open(file_path, 'r') as file:\n",
        "        # Read the contents of the file into a string\n",
        "        file_content = file.read()\n",
        "        print(\"File content stored in string successfully.\")\n",
        "  except FileNotFoundError:\n",
        "    print(\"File not found. Please provide the correct file path.\")\n",
        "  except Exception as e:\n",
        "    print(\"An error occurred:\", e)\n",
        "  return file_content"
      ],
      "metadata": {
        "id": "Tpp2HBgtv2Ud"
      },
      "execution_count": 25,
      "outputs": []
    },
    {
      "cell_type": "markdown",
      "source": [
        "# Given a daily log file, function to count and return the number of actual intervals and the number of Mistral-proposed intervals."
      ],
      "metadata": {
        "id": "TQlds3nOmIRR"
      }
    },
    {
      "cell_type": "code",
      "source": [
        "def calculate_missing_intervals(day,month,year):\n",
        "  file_content = get_log_file_content(day,month,year)\n",
        "  split_string = file_content.split(\"Mistral operating times:\", 1)\n",
        "\n",
        "  actual_intervals = split_string[0]\n",
        "  mistral_intervals = split_string[1]\n",
        "\n",
        "  nr_actual_intervals = actual_intervals.count(\"From\")\n",
        "  nr_mistral_intervals = mistral_intervals.count(\"from\")\n",
        "\n",
        "  return nr_actual_intervals,nr_mistral_intervals"
      ],
      "metadata": {
        "id": "W0NboUjHs82d"
      },
      "execution_count": 30,
      "outputs": []
    },
    {
      "cell_type": "markdown",
      "source": [
        "# Given a daily log file, function to parse the Mistral proposal and to evaluate if a given interval is acceptable or not.\n",
        "The function returns the total number of proposed intervals and the number of acceptable intervals."
      ],
      "metadata": {
        "id": "Zdt857zsmxvE"
      }
    },
    {
      "cell_type": "code",
      "source": [
        "def calculate_acceptable_intervals(day,month,year):\n",
        "  file_content = get_log_file_content(day,month,year)\n",
        "  split_string = file_content.split(\"Mistral operating times:\", 1)\n",
        "\n",
        "  mistral_intervals = split_string[1]\n",
        "\n",
        "  lines = mistral_intervals.split('\\n')\n",
        "\n",
        "  nr_acceptable_intervals=0\n",
        "  for line in lines:\n",
        "        # Define the regular expression pattern to match words in the format xx:xx:xx\n",
        "        pattern = r'\\b\\d{2}:\\d{2}:\\d{2}\\b'\n",
        "\n",
        "        # Find all occurrences of the pattern in the input string\n",
        "        matches = re.findall(pattern, line)\n",
        "\n",
        "        # Extract the first and second occurrences\n",
        "        from_time = matches[0] if matches else None\n",
        "        to_time = matches[1] if len(matches) > 1 else None\n",
        "\n",
        "        try:\n",
        "          if (from_time != None)  and (to_time!=None):\n",
        "            if from_time < to_time:\n",
        "              nr_acceptable_intervals+=1\n",
        "        except:\n",
        "          continue\n",
        "\n",
        "  return nr_acceptable_intervals"
      ],
      "metadata": {
        "id": "haG_i0ekxW1T"
      },
      "execution_count": 39,
      "outputs": []
    },
    {
      "cell_type": "markdown",
      "source": [
        "# Function to compute the evaluation metrics given a month."
      ],
      "metadata": {
        "id": "_WuH3LBXnWgB"
      }
    },
    {
      "cell_type": "code",
      "source": [
        "def compute_evaluation_metrics(month,year):\n",
        "  nr_total_actual_intervals = 0\n",
        "  nr_total_mistral_proposed_intervals = 0\n",
        "  nr_total_acceptable_intervals = 0\n",
        "  last_day = 31\n",
        "\n",
        "  # February 2015\n",
        "  if month==\"02\" and year==\"2015\":\n",
        "    last_day = 28\n",
        "  if month==\"04\":\n",
        "    last_day = 30\n",
        "  if month==\"07\":\n",
        "    last_day = 31\n",
        "  if month==\"11\":\n",
        "    last_day = 30\n",
        "\n",
        "  for day in range(1,last_day+1):\n",
        "    two_digits_day = \"{:02d}\".format(day)\n",
        "    current_actual_intervals,current_mistral_proposed_intervals = calculate_missing_intervals(two_digits_day,month,year)\n",
        "    nr_total_actual_intervals += current_actual_intervals\n",
        "    nr_total_mistral_proposed_intervals += current_mistral_proposed_intervals\n",
        "    nr_total_acceptable_intervals+=calculate_acceptable_intervals(two_digits_day,month,year)\n",
        "\n",
        "  missing_intervals_ratio = 1-(nr_total_mistral_proposed_intervals/nr_total_actual_intervals)\n",
        "  accuracy = nr_total_acceptable_intervals/nr_total_mistral_proposed_intervals\n",
        "\n",
        "  print(\"The accuracy for \"+month+ \" is: \"+str(accuracy))\n",
        "  print(\"The missing intervals ratio for \"+month+ \" is: \"+str(missing_intervals_ratio))"
      ],
      "metadata": {
        "id": "kICMeAvznfX7"
      },
      "execution_count": 54,
      "outputs": []
    },
    {
      "cell_type": "code",
      "source": [
        "compute_evaluation_metrics(\"02\",\"2015\")"
      ],
      "metadata": {
        "colab": {
          "base_uri": "https://localhost:8080/"
        },
        "id": "nTijIRr_q7b2",
        "outputId": "f9814d6b-c396-4286-a3b8-47c685754e60"
      },
      "execution_count": 55,
      "outputs": [
        {
          "output_type": "stream",
          "name": "stdout",
          "text": [
            "feb2015/multiple_appliances/multiple_appliances_2015-02-01.txt\n",
            "File content stored in string successfully.\n",
            "feb2015/multiple_appliances/multiple_appliances_2015-02-01.txt\n",
            "File content stored in string successfully.\n",
            "feb2015/multiple_appliances/multiple_appliances_2015-02-02.txt\n",
            "File content stored in string successfully.\n",
            "feb2015/multiple_appliances/multiple_appliances_2015-02-02.txt\n",
            "File content stored in string successfully.\n",
            "feb2015/multiple_appliances/multiple_appliances_2015-02-03.txt\n",
            "File content stored in string successfully.\n",
            "feb2015/multiple_appliances/multiple_appliances_2015-02-03.txt\n",
            "File content stored in string successfully.\n",
            "feb2015/multiple_appliances/multiple_appliances_2015-02-04.txt\n",
            "File content stored in string successfully.\n",
            "feb2015/multiple_appliances/multiple_appliances_2015-02-04.txt\n",
            "File content stored in string successfully.\n",
            "feb2015/multiple_appliances/multiple_appliances_2015-02-05.txt\n",
            "File content stored in string successfully.\n",
            "feb2015/multiple_appliances/multiple_appliances_2015-02-05.txt\n",
            "File content stored in string successfully.\n",
            "feb2015/multiple_appliances/multiple_appliances_2015-02-06.txt\n",
            "File content stored in string successfully.\n",
            "feb2015/multiple_appliances/multiple_appliances_2015-02-06.txt\n",
            "File content stored in string successfully.\n",
            "feb2015/multiple_appliances/multiple_appliances_2015-02-07.txt\n",
            "File content stored in string successfully.\n",
            "feb2015/multiple_appliances/multiple_appliances_2015-02-07.txt\n",
            "File content stored in string successfully.\n",
            "feb2015/multiple_appliances/multiple_appliances_2015-02-08.txt\n",
            "File content stored in string successfully.\n",
            "feb2015/multiple_appliances/multiple_appliances_2015-02-08.txt\n",
            "File content stored in string successfully.\n",
            "feb2015/multiple_appliances/multiple_appliances_2015-02-09.txt\n",
            "File content stored in string successfully.\n",
            "feb2015/multiple_appliances/multiple_appliances_2015-02-09.txt\n",
            "File content stored in string successfully.\n",
            "feb2015/multiple_appliances/multiple_appliances_2015-02-10.txt\n",
            "File content stored in string successfully.\n",
            "feb2015/multiple_appliances/multiple_appliances_2015-02-10.txt\n",
            "File content stored in string successfully.\n",
            "feb2015/multiple_appliances/multiple_appliances_2015-02-11.txt\n",
            "File content stored in string successfully.\n",
            "feb2015/multiple_appliances/multiple_appliances_2015-02-11.txt\n",
            "File content stored in string successfully.\n",
            "feb2015/multiple_appliances/multiple_appliances_2015-02-12.txt\n",
            "File content stored in string successfully.\n",
            "feb2015/multiple_appliances/multiple_appliances_2015-02-12.txt\n",
            "File content stored in string successfully.\n",
            "feb2015/multiple_appliances/multiple_appliances_2015-02-13.txt\n",
            "File content stored in string successfully.\n",
            "feb2015/multiple_appliances/multiple_appliances_2015-02-13.txt\n",
            "File content stored in string successfully.\n",
            "feb2015/multiple_appliances/multiple_appliances_2015-02-14.txt\n",
            "File content stored in string successfully.\n",
            "feb2015/multiple_appliances/multiple_appliances_2015-02-14.txt\n",
            "File content stored in string successfully.\n",
            "feb2015/multiple_appliances/multiple_appliances_2015-02-15.txt\n",
            "File content stored in string successfully.\n",
            "feb2015/multiple_appliances/multiple_appliances_2015-02-15.txt\n",
            "File content stored in string successfully.\n",
            "feb2015/multiple_appliances/multiple_appliances_2015-02-16.txt\n",
            "File content stored in string successfully.\n",
            "feb2015/multiple_appliances/multiple_appliances_2015-02-16.txt\n",
            "File content stored in string successfully.\n",
            "feb2015/multiple_appliances/multiple_appliances_2015-02-17.txt\n",
            "File content stored in string successfully.\n",
            "feb2015/multiple_appliances/multiple_appliances_2015-02-17.txt\n",
            "File content stored in string successfully.\n",
            "feb2015/multiple_appliances/multiple_appliances_2015-02-18.txt\n",
            "File content stored in string successfully.\n",
            "feb2015/multiple_appliances/multiple_appliances_2015-02-18.txt\n",
            "File content stored in string successfully.\n",
            "feb2015/multiple_appliances/multiple_appliances_2015-02-19.txt\n",
            "File content stored in string successfully.\n",
            "feb2015/multiple_appliances/multiple_appliances_2015-02-19.txt\n",
            "File content stored in string successfully.\n",
            "feb2015/multiple_appliances/multiple_appliances_2015-02-20.txt\n",
            "File content stored in string successfully.\n",
            "feb2015/multiple_appliances/multiple_appliances_2015-02-20.txt\n",
            "File content stored in string successfully.\n",
            "feb2015/multiple_appliances/multiple_appliances_2015-02-21.txt\n",
            "File content stored in string successfully.\n",
            "feb2015/multiple_appliances/multiple_appliances_2015-02-21.txt\n",
            "File content stored in string successfully.\n",
            "feb2015/multiple_appliances/multiple_appliances_2015-02-22.txt\n",
            "File content stored in string successfully.\n",
            "feb2015/multiple_appliances/multiple_appliances_2015-02-22.txt\n",
            "File content stored in string successfully.\n",
            "feb2015/multiple_appliances/multiple_appliances_2015-02-23.txt\n",
            "File content stored in string successfully.\n",
            "feb2015/multiple_appliances/multiple_appliances_2015-02-23.txt\n",
            "File content stored in string successfully.\n",
            "feb2015/multiple_appliances/multiple_appliances_2015-02-24.txt\n",
            "File content stored in string successfully.\n",
            "feb2015/multiple_appliances/multiple_appliances_2015-02-24.txt\n",
            "File content stored in string successfully.\n",
            "feb2015/multiple_appliances/multiple_appliances_2015-02-25.txt\n",
            "File content stored in string successfully.\n",
            "feb2015/multiple_appliances/multiple_appliances_2015-02-25.txt\n",
            "File content stored in string successfully.\n",
            "feb2015/multiple_appliances/multiple_appliances_2015-02-26.txt\n",
            "File content stored in string successfully.\n",
            "feb2015/multiple_appliances/multiple_appliances_2015-02-26.txt\n",
            "File content stored in string successfully.\n",
            "feb2015/multiple_appliances/multiple_appliances_2015-02-27.txt\n",
            "File content stored in string successfully.\n",
            "feb2015/multiple_appliances/multiple_appliances_2015-02-27.txt\n",
            "File content stored in string successfully.\n",
            "feb2015/multiple_appliances/multiple_appliances_2015-02-28.txt\n",
            "File content stored in string successfully.\n",
            "feb2015/multiple_appliances/multiple_appliances_2015-02-28.txt\n",
            "File content stored in string successfully.\n",
            "The accuracy for 02 is: 0.9657534246575342\n",
            "The missing intervals ratio for 02 is: 0.12574850299401197\n"
          ]
        }
      ]
    }
  ]
}