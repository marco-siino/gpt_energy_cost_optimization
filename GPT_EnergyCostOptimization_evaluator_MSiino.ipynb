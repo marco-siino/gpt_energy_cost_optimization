{
  "nbformat": 4,
  "nbformat_minor": 0,
  "metadata": {
    "colab": {
      "provenance": [],
      "authorship_tag": "ABX9TyPRg+hwYeMDSwyzA/A29A9F",
      "include_colab_link": true
    },
    "kernelspec": {
      "name": "python3",
      "display_name": "Python 3"
    },
    "language_info": {
      "name": "python"
    }
  },
  "cells": [
    {
      "cell_type": "markdown",
      "metadata": {
        "id": "view-in-github",
        "colab_type": "text"
      },
      "source": [
        "<a href=\"https://colab.research.google.com/github/marco-siino/gpt_energy_cost_optimization/blob/main/GPT_EnergyCostOptimization_evaluator_MSiino.ipynb\" target=\"_parent\"><img src=\"https://colab.research.google.com/assets/colab-badge.svg\" alt=\"Open In Colab\"/></a>"
      ]
    },
    {
      "cell_type": "markdown",
      "source": [
        "# Import the libraries required."
      ],
      "metadata": {
        "id": "aQGK5qFcm3IA"
      }
    },
    {
      "cell_type": "code",
      "execution_count": 1,
      "metadata": {
        "id": "c04JAPYwl8UR"
      },
      "outputs": [],
      "source": [
        "import requests\n",
        "import zipfile\n",
        "import io"
      ]
    },
    {
      "cell_type": "markdown",
      "source": [
        "# Get the log files from GitHub and extract the folders."
      ],
      "metadata": {
        "id": "KpGLLKJfmDeJ"
      }
    },
    {
      "cell_type": "code",
      "source": [
        "def get_log_files_zipped (zip_url, folder_name):\n",
        "  # Send a GET request to the URL\n",
        "  response = requests.get(zip_url)\n",
        "\n",
        "  # Check if the request was successful (status code 200)\n",
        "  if response.status_code == 200:\n",
        "      # Read the content of the response\n",
        "      zip_content = io.BytesIO(response.content)\n",
        "\n",
        "      # Extract the zip file\n",
        "      with zipfile.ZipFile(zip_content, 'r') as zip_ref:\n",
        "          zip_ref.extractall('/content/'+folder_name)  # Extract to the '/content/' directory in Colab\n",
        "      print(\"Zip file extracted successfully.\")\n",
        "  else:\n",
        "      print(\"Failed to download zip file.\")"
      ],
      "metadata": {
        "id": "d63uVQ4YrBSg"
      },
      "execution_count": 4,
      "outputs": []
    },
    {
      "cell_type": "code",
      "source": [
        "# GitHub repository URL\n",
        "jul2014_url = 'https://github.com/marco-siino/gpt_energy_cost_optimization/raw/main/multiple_appliances_jul2014.zip'\n",
        "nov2014_url = 'https://github.com/marco-siino/gpt_energy_cost_optimization/raw/main/multiple_appliances_nov2014.zip'\n",
        "feb2015_url = 'https://github.com/marco-siino/gpt_energy_cost_optimization/raw/main/multiple_appliances_feb2015.zip'\n",
        "apr2015_url = 'https://github.com/marco-siino/gpt_energy_cost_optimization/raw/main/multiple_appliances_apr2015.zip'\n",
        "\n",
        "get_log_files_zipped(jul2014_url,\"jul2014\")\n",
        "get_log_files_zipped(nov2014_url,\"nov2014\")\n",
        "get_log_files_zipped(feb2015_url,\"feb2015\")\n",
        "get_log_files_zipped(apr2015_url,\"apr2015\")\n",
        "\n"
      ],
      "metadata": {
        "colab": {
          "base_uri": "https://localhost:8080/"
        },
        "id": "LO_qFACcrsvZ",
        "outputId": "d7030f23-77ad-4d42-b034-41c96b216872"
      },
      "execution_count": 6,
      "outputs": [
        {
          "output_type": "stream",
          "name": "stdout",
          "text": [
            "Zip file extracted successfully.\n",
            "Zip file extracted successfully.\n",
            "Zip file extracted successfully.\n",
            "Zip file extracted successfully.\n"
          ]
        }
      ]
    },
    {
      "cell_type": "markdown",
      "source": [
        "# Given a daily log file, function to count and return the number of actual intervals and the number of Mistral-proposed intervals."
      ],
      "metadata": {
        "id": "TQlds3nOmIRR"
      }
    },
    {
      "cell_type": "markdown",
      "source": [
        "# Given a daily log file, function to parse the Mistral proposal and to evaluate if a given interval is acceptable or not.\n",
        "The function returns the total number of proposed intervals and the number of acceptable intervals."
      ],
      "metadata": {
        "id": "Zdt857zsmxvE"
      }
    },
    {
      "cell_type": "markdown",
      "source": [
        "# Function to compute the evaluation metrics given a month."
      ],
      "metadata": {
        "id": "_WuH3LBXnWgB"
      }
    },
    {
      "cell_type": "code",
      "source": [
        "def compute_evaluation_metrics(month,year):\n",
        "  nr_actual_intervals = 0\n",
        "  nr_mistral_proposed_intervals = 0\n",
        "  nr_acceptable_intervals = 0\n",
        "\n",
        "  # February 2014\n",
        "  if month==\"February\" and year=\"2015\":\n",
        "    last_day = 28\n",
        "  if month=\"April\":\n",
        "    last_day = 30\n",
        "  if month=\"July\":\n",
        "    last_day = 31\n",
        "  if month=\"November\":\n",
        "    last_day = 30\n",
        "\n",
        "  for day in range(1,last_day+1):\n",
        "    nr_actual_intervals,nr_mistral_proposed_intervals += calculate_missing_intervals(day,month,year)\n",
        "    nr_acceptable_intervals+=calculate_accepted_intervals(day,month,year)\n",
        "\n",
        "  missing_intervals_ratio = 1-(nr_mistral_proposed_intervals/nr_actual_intervals)\n",
        "  accuracy = nr_acceptable_intervals/nr_mistral_proposed_intervals\n",
        "\n",
        "  print(\"The accuracy for \"+month+ \" is: \"+accuracy)\n",
        "  print(\"The missing intervals ratio for \"+month+ \" is: \"+missing_interval_ratio)"
      ],
      "metadata": {
        "id": "kICMeAvznfX7"
      },
      "execution_count": null,
      "outputs": []
    },
    {
      "cell_type": "code",
      "source": [
        "compute_evaluation_metrics(\"February\",\"2015\")"
      ],
      "metadata": {
        "id": "nTijIRr_q7b2"
      },
      "execution_count": null,
      "outputs": []
    }
  ]
}